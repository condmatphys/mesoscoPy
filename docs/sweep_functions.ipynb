{
 "cells": [
  {
   "cell_type": "markdown",
   "source": [
    "# Sweep functions\n",
    "This notebook shows how to make basic sweeps. [mesoscoPy](https://github.com/julienbarrier/mesoscopy) integrates function to perform the following:\n",
    "* **fast sweep**: sweep a parameter to a target value, without measuring.\n",
    "* **1D sweep**: sweep a parameter along an array. included in a measurement object.\n",
    "* **time sweep**: sweep time, while measuring other parameter. included in a measurement object.\n",
    "* **repeated 1D sweep**: sweep a parameter along an array, and repeat a certain number of time. included in a measurement object.\n",
    "* **2D sweep**: sweep a parameter along an array (outer sweep), and for each value, sweep another parameter (inner sweep). included in a measurement object.\n",
    "\n",
    "\n",
    "We assume here to be working with a Keithley 2600, lock-ins Zurich Instruments MFLI and an Oxford Triton\n",
    "\n",
    "## Imports"
   ],
   "metadata": {}
  },
  {
   "cell_type": "code",
   "execution_count": null,
   "source": [
    "%matplotlib inline\n",
    "\n",
    "from qcodes import initialise_or_create_database_at, load_or_create_experiment\n",
    "from mesoscopy.instrument.station import init_station\n",
    "from mesoscopy.instrument.keithley import initialise_keithley\n",
    "from mesoscopy.instrument.lockin import initialise_lockin, enable_DC, disable_DC\n",
    "from mesoscopy.experiment.characterise_contacts import contact_IV, test_gate, twoprobe_contacts\n",
    "from mesoscopy.measurement.array import generate_1D_sweep_array"
   ],
   "outputs": [],
   "metadata": {}
  },
  {
   "cell_type": "markdown",
   "source": [
    "## Set up station and database\n",
    "### set up measurement station\n",
    "\n",
    "we use the function `init_station` from `mesoscopy.instrument.station`. It is composed of the following arguments:\n",
    "* `keithley_addr`: Visa address (string)\n",
    "* `triton_addr`: IP address (stringg)\n",
    "* `MFLI_num`: number of MFLI (string)\n",
    "* `current_range`: factor for the input current. the first MFLI sources an AC voltage. We convert this to a current source by adding a resistor in series. `current_range` correspnods to the current sourced with a 1V AC excitation. Optional value.\n",
    "\n",
    "Example:"
   ],
   "metadata": {}
  },
  {
   "cell_type": "code",
   "execution_count": null,
   "source": [
    "station = init_station(\"TCPIP::192.168.0.13::inst0::INSTR\", \n",
    "                       # we are loading a keithley 2614B on ip 192.168.0.13\n",
    "                       \"192.168.0.2\",  # we are loading the Oxford triton\n",
    "                       \"4406\",\"4330\", \"3550\",  # we are loading 3 MFLIs: MF4406, MF4330, MF3550\n",
    "                       current_range=1e-9)"
   ],
   "outputs": [],
   "metadata": {}
  },
  {
   "cell_type": "markdown",
   "source": [
    "### initialise instruments\n",
    "The keithley can be initialised with voltage compliants limits (`limits_v` in Volts) and maximum sweeping rate (`max_rate` in Volt/sec). These take tuples (or sequences) to account for multiple channels.\n",
    "The maximum sweeping rate is coded in [mesoscoPy](https://github.com/julienbarrier/mesoscopy)'s functions. It is not shared with the instrument."
   ],
   "metadata": {}
  },
  {
   "cell_type": "code",
   "execution_count": null,
   "source": [
    "initialise_keithley(\n",
    "    station,  # the station we initialised\n",
    "    limits_v=[20, 60],  # limits for the gates, controlled by smua and smub\n",
    "    max_rate=[0.12, 0.12]  # maximum sweeping rates\n",
    "    )"
   ],
   "outputs": [],
   "metadata": {}
  },
  {
   "cell_type": "markdown",
   "source": [
    "The lockins can be initialised by setting up the amplitude (`ampl` in Volts) and the frequency (`freq`, in Hz):"
   ],
   "metadata": {}
  },
  {
   "cell_type": "code",
   "execution_count": null,
   "source": [
    "initialise_lockin(\n",
    "    station,\n",
    "    freq=127,  # lock-in frequency in Hz\n",
    "    ampl=1  # 1V output\n",
    ")"
   ],
   "outputs": [],
   "metadata": {}
  },
  {
   "cell_type": "markdown",
   "source": [
    "### Name and initialise database"
   ],
   "metadata": {}
  },
  {
   "cell_type": "code",
   "execution_count": null,
   "source": [
    "initialise_or_create_database_at('../database.db')\n",
    "exp = load_or_create_experiment(\n",
    "    experiment_name='test sweeps',\n",
    "    sample_name='no_sample'\n",
    ")"
   ],
   "outputs": [],
   "metadata": {}
  },
  {
   "cell_type": "markdown",
   "source": [
    "## 1D sweep\n",
    "We are going to perform a gate sweep. For the following, we shall connect the Keithley's channel A to the gate of interest, and float everything else.\n",
    "### initialise the sweep"
   ],
   "metadata": {}
  },
  {
   "cell_type": "code",
   "execution_count": null,
   "source": [
    "# first, we sweep the gate to 40V in 0.1V steps (optional)\n",
    "fastsweep(\n",
    "    40,  # target value\n",
    "    station.keithley.smub.volt,  # instrument parameter to sweep\n",
    "    step=.1  # step size (Optional, useful if actions or control are registered)\n",
    "    actions=None,  # actions to perform in between each steps\n",
    "    control=None,  # callable, called at each step. if true, breaks the sweep\n",
    "    lbar=True  # display aprogress bar\n",
    ")\n",
    "\n",
    "# second, we initialise an array along which we are going to perform the sweep\n",
    "array = generate_1D_sweep_array(\n",
    "    40,  # init\n",
    "    -40, # stop\n",
    "    step=0.2 # step size. alternatively, one can set up a number of steps with ``num``\n",
    ")"
   ],
   "outputs": [],
   "metadata": {}
  },
  {
   "cell_type": "markdown",
   "source": [
    "### sweep a parameter and record other values"
   ],
   "metadata": {}
  },
  {
   "cell_type": "code",
   "execution_count": null,
   "source": [
    "sweep1d(\n",
    "    station.keithley.smub.volt,  # parameter to sweep\n",
    "    array,  # array to sweep along\n",
    "    1, # settling time (sec)\n",
    "    station.mf4406.demods[0].sample,  # parameters to be measured during the sweep\n",
    "    station.mf4330.demods[0].sample,\n",
    "    station.mf3550.demods[0].sample,\n",
    "    station.keithley.smua.volt,\n",
    "    station.keithley.smua.curr,\n",
    "    station.keithley.smub.curr,\n",
    "    station.triton.T8,\n",
    "    station.triton.Bz,\n",
    "    exp=exp,  # experiment object\n",
    "    measurement_name='Vbg sweep -40V::40V',  # measurement name\n",
    "    do_plot=False,  # plotting the sweep?\n",
    "    use_threads=True,  # use threads to parallelise records from instrument\n",
    "    enter_actions=None,  # actions to be performed before the sweep starts\n",
    "    exit_actions=None,  # actions to be performed after the sweep ends\n",
    "    additional_setpoints=tuple()  # sequence of additional setponits\n",
    ")"
   ],
   "outputs": [],
   "metadata": {}
  },
  {
   "cell_type": "markdown",
   "source": [
    "### time sweep\n",
    "this is very similar to a 1D sweep, with the exception that it doesn't take a parameter to sweep:"
   ],
   "metadata": {}
  },
  {
   "cell_type": "code",
   "execution_count": null,
   "source": [
    "sweeptime(\n",
    "    1,  # settling time (sec)\n",
    "    100,  # duration of the sweep (sec)\n",
    "    station.mf4406.demods[0].sample,  # parameters to be measured during the sweep\n",
    "    station.mf4330.demods[0].sample,\n",
    "    station.mf3550.demods[0].sample,\n",
    "    exp=exp,  # experiment object\n",
    "    measurement_name='time sweep to 100s',  # measurement name\n",
    "    use_threads=True,  # use threads to parallelise records from instrument\n",
    "    enter_actions=None,  # actions to be performed before the sweep starts\n",
    "    exit_actions=None,  # actions to be performed after the sweep ends\n",
    "    additional_setpoints=tuple()  # sequence of additional setponits\n",
    ")"
   ],
   "outputs": [],
   "metadata": {}
  },
  {
   "cell_type": "markdown",
   "source": [
    "## 2D sweeps\n",
    "There are two kinds of 2D sweeps. eitheir we repeat a 1D sweep with actions in between each of them, or we can sweep a parameter for each repetition of the nested 1D sweep.\n",
    "\n",
    "### repeat 1D sweep\n",
    "the main goal of this function is to test the reproducibility of a sweep, without restarting a 1D sweep multiple times. alternatively, one can add outer_enter_actions to vary different parameters of the experiment."
   ],
   "metadata": {}
  },
  {
   "cell_type": "code",
   "execution_count": 1,
   "source": [
    "# preliminary:\n",
    "array = generate_1D_sweep_array(20,-20, num=40)\n",
    "fastsweep(20, station.keithley.smub.volt)\n",
    "# this fastweep is optional: sweep1d_repead already includes a fastsweep for safety reasons\n",
    "\n",
    "sweep1d_repeat(\n",
    "    station.keithley.smub.volt,  # parameter to sweep\n",
    "    array,  # array to sweep along\n",
    "    1, # settling time (sec)\n",
    "    station.mf4406.demods[0].sample,  # parameters to be measured during the sweep\n",
    "    station.mf4330.demods[0].sample,\n",
    "    station.mf3550.demods[0].sample,\n",
    "    station.keithley.smua.volt,\n",
    "    station.keithley.smua.curr,\n",
    "    station.keithley.smub.curr,\n",
    "    station.triton.T8,\n",
    "    station.triton.Bz,\n",
    "    10,  # number of repeats,\n",
    "    0.5,  # time to wait between steps\n",
    "    exp=exp,  # experiment object\n",
    "    measurement_name='Vbg sweep 20V::-20V - repeat',  # measurement name\n",
    "    do_plot=False,  # plotting the sweep?\n",
    "    use_threads=True,  # use threads to parallelise records from instrument\n",
    "    outer_enter_actions=None,  # actions to be performed before the first sweep starts\n",
    "    outer_exit_actions=None,  # actions to be performed after the final sweep ends\n",
    "    inner_enter_actions=None,  # actions to be performed before an individual sweep\n",
    "    inner_exit_actions=None,  # actions to be performed after an individual sweep\n",
    "    measure_retrace=False,  # bool: do we want to record the retrace measurement?\n",
    "    additional_setpoints=tuple()  # sequence of additional setponits\n",
    ")"
   ],
   "outputs": [
    {
     "output_type": "error",
     "ename": "NameError",
     "evalue": "name 'generate_1D_sweep_array' is not defined",
     "traceback": [
      "\u001b[0;31m---------------------------------------------------------------------------\u001b[0m",
      "\u001b[0;31mNameError\u001b[0m                                 Traceback (most recent call last)",
      "\u001b[0;32m/var/folders/84/wkpnx6bs6836_wy9c0l3sv0w0000gp/T/ipykernel_93702/3948433016.py\u001b[0m in \u001b[0;36m<module>\u001b[0;34m\u001b[0m\n\u001b[1;32m      1\u001b[0m \u001b[0;31m# preliminary:\u001b[0m\u001b[0;34m\u001b[0m\u001b[0;34m\u001b[0m\u001b[0m\n\u001b[0;32m----> 2\u001b[0;31m \u001b[0marray\u001b[0m \u001b[0;34m=\u001b[0m \u001b[0mgenerate_1D_sweep_array\u001b[0m\u001b[0;34m(\u001b[0m\u001b[0;36m20\u001b[0m\u001b[0;34m,\u001b[0m\u001b[0;34m-\u001b[0m\u001b[0;36m20\u001b[0m\u001b[0;34m,\u001b[0m \u001b[0mnum\u001b[0m\u001b[0;34m=\u001b[0m\u001b[0;36m40\u001b[0m\u001b[0;34m)\u001b[0m\u001b[0;34m\u001b[0m\u001b[0;34m\u001b[0m\u001b[0m\n\u001b[0m\u001b[1;32m      3\u001b[0m \u001b[0mfastsweep\u001b[0m\u001b[0;34m(\u001b[0m\u001b[0;36m20\u001b[0m\u001b[0;34m,\u001b[0m \u001b[0mstation\u001b[0m\u001b[0;34m.\u001b[0m\u001b[0mkeithley\u001b[0m\u001b[0;34m.\u001b[0m\u001b[0msmub\u001b[0m\u001b[0;34m.\u001b[0m\u001b[0mvolt\u001b[0m\u001b[0;34m)\u001b[0m\u001b[0;34m\u001b[0m\u001b[0;34m\u001b[0m\u001b[0m\n\u001b[1;32m      4\u001b[0m \u001b[0;31m# this fastweep is optional: sweep1d_repead already includes a fastsweep for safety reasons\u001b[0m\u001b[0;34m\u001b[0m\u001b[0;34m\u001b[0m\u001b[0m\n\u001b[1;32m      5\u001b[0m \u001b[0;34m\u001b[0m\u001b[0m\n",
      "\u001b[0;31mNameError\u001b[0m: name 'generate_1D_sweep_array' is not defined"
     ]
    }
   ],
   "metadata": {}
  },
  {
   "cell_type": "markdown",
   "source": [
    "### 2D sweep\n",
    "this is useful to make a map while varying two parameters.\n",
    "For example, we are going to measure IV curves (and dV/dI) while sweeping the gate\n",
    "\n",
    "First, we enable DC measurements on ZI lock-ins:"
   ],
   "metadata": {}
  },
  {
   "cell_type": "code",
   "execution_count": null,
   "source": [
    "enable_DC(station)  # we remove the AC filter on all ZI lock-ins, to be able to measure IV curves.\n",
    "# Additionally, this enables a demodulator at frequency 0 on all lock-ins registered in the station."
   ],
   "outputs": [],
   "metadata": {}
  },
  {
   "cell_type": "markdown",
   "source": [
    "Second, we initialise our measurement:"
   ],
   "metadata": {}
  },
  {
   "cell_type": "code",
   "execution_count": null,
   "source": [
    "exp = load_or_create_experiment(\n",
    "    experiment_name='IV gate dependence',\n",
    "    sample_name='no_sample'\n",
    ")\n",
    "\n",
    "xarray = generate_1D_sweep_array(.5,-.5, num=151)\n",
    "yarray = generate_1D_sweep_array(20,-20, step=0.5)\n",
    "\n",
    "fastsweep(.5,station.mf4406.auxouts[0].offset)\n",
    "fastsweep(20, station.keithley.smub.volt)"
   ],
   "outputs": [],
   "metadata": {}
  },
  {
   "cell_type": "markdown",
   "source": [
    "Finaly, we start trhe 2D sweep"
   ],
   "metadata": {}
  },
  {
   "cell_type": "code",
   "execution_count": null,
   "source": [
    "sweep2d(\n",
    "    station.mf4406.auxouts[0].offset, # parameter to sweep (fast sweep)\n",
    "    array,  # array to sweep along\n",
    "    1, # settling time (sec)\n",
    "    station.keithley.smub.volt,  # parameter to sweep (slow sweep)\n",
    "    yarray,  # array to sweep along\n",
    "    .5,  # waiting time before the fast sweep starts (y-settling time)\n",
    "    station.mf4406.demods[0].sample,  # parameters to be measured during the sweep\n",
    "    station.mf4406.demods[2].sample,  # here demods[2] corresponds to DC voltage\n",
    "    station.mf4330.demods[0].sample,\n",
    "    station.mf4330.demods[2].sample,\n",
    "    station.mf3550.demods[0].sample,\n",
    "    station.mf3550.demods[2].sample,\n",
    "    station.keithley.smua.volt,\n",
    "    station.keithley.smua.curr,\n",
    "    station.keithley.smub.curr,\n",
    "    station.triton.T8,\n",
    "    station.triton.Bz,\n",
    "    exp=exp,  # experiment object\n",
    "    measurement_name='IV curves for Vbg sweep 20V::-20V',  # measurement name\n",
    "    do_plot=False,  # plotting the sweep?\n",
    "    use_threads=True,  # use threads to parallelise records from instrument\n",
    "    outer_enter_actions=None,  # actions to be performed before the first sweep starts\n",
    "    outer_exit_actions=None,  # actions to be performed after the final sweep ends\n",
    "    inner_enter_actions=None,  # actions to be performed before an individual sweep\n",
    "    inner_exit_actions=None,  # actions to be performed after an individual sweep\n",
    "    measure_retrace=False,  # bool: do we want to record the retrace measurement?\n",
    "    additional_setpoints=tuple()  # sequence of additional setponits\n",
    ")"
   ],
   "outputs": [],
   "metadata": {}
  }
 ],
 "metadata": {
  "orig_nbformat": 4,
  "language_info": {
   "name": "python",
   "version": "3.8.2",
   "mimetype": "text/x-python",
   "codemirror_mode": {
    "name": "ipython",
    "version": 3
   },
   "pygments_lexer": "ipython3",
   "nbconvert_exporter": "python",
   "file_extension": ".py"
  },
  "kernelspec": {
   "name": "python3",
   "display_name": "Python 3.8.2 64-bit"
  },
  "interpreter": {
   "hash": "31f2aee4e71d21fbe5cf8b01ff0e069b9275f58929596ceb00d14d90e3e16cd6"
  }
 },
 "nbformat": 4,
 "nbformat_minor": 2
}