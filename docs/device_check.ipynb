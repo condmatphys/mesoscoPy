{
 "cells": [
  {
   "cell_type": "markdown",
   "source": [
    "# Device check\n",
    "This notebook shows how to make preliminary checks on a device. [mesoscoPy](https://github.com/julienbarrier/mesoscopy) integrates function to perform the following:\n",
    "* IV curves for all contacts\n",
    "* gate leak check\n",
    "* contact gate dependence\n",
    "\n",
    "We assume here to be working with a Keithley 2600 and an Oxford Triton\n",
    "\n",
    "## Imports"
   ],
   "metadata": {}
  },
  {
   "cell_type": "code",
   "execution_count": null,
   "source": [
    "%matplotlib inline\n",
    "\n",
    "from qcodes import initialise_or_create_database_at, load_or_create_experiment\n",
    "from mesoscopy.instrument.station import init_station\n",
    "from mesoscopy.instrument.keithley import initialise_keithley\n",
    "from mesoscopy.instrument.lockin import initialise_lockin\n",
    "from mesoscopy.experiment.characterise_contacts import contact_IV, test_gate, twoprobe_contacts"
   ],
   "outputs": [],
   "metadata": {}
  },
  {
   "cell_type": "markdown",
   "source": [
    "## Set up station and database\n",
    "### set up measurement station\n",
    "\n",
    "we use the function `init_station` from `mesoscopy.instrument.station`. It is composed of the following arguments:\n",
    "* `keithley_addr`: Visa address (string)\n",
    "* `triton_addr`: IP address (stringg)\n",
    "* `MFLI_num`: number of MFLI (string)\n",
    "* `current_range`: factor for the input current. the first MFLI sources an AC voltage. We convert this to a current source by adding a resistor in series. `current_range` correspnods to the current sourced with a 1V AC excitation. Optional value.\n",
    "\n",
    "Example:"
   ],
   "metadata": {}
  },
  {
   "cell_type": "code",
   "execution_count": null,
   "source": [
    "station = init_station(\"TCPIP::192.168.0.13::inst0::INSTR\",\n",
    "                       \"192.168.0.2\",\n",
    "                       \"4406\",\"4330\", \"3550\",\n",
    "                       current_range=1e-9)"
   ],
   "outputs": [],
   "metadata": {}
  },
  {
   "cell_type": "markdown",
   "source": [
    "### initialise instruments\n",
    "The keithley can be initialised with voltage compliants limits (`limits_v` in Volts) and maximum sweeping rate (`max_rate` in Volt/sec). These take tuples (or sequences) to account for multiple channels.\n",
    "The maximum sweeping rate is coded in [mesoscoPy](https://github.com/julienbarrier/mesoscopy)'s functions. It is not shared with the instrument."
   ],
   "metadata": {}
  },
  {
   "cell_type": "code",
   "execution_count": null,
   "source": [
    "initialise_keithley(station, limits_v=[10, 70], max_rate=[0.12, 0.12])"
   ],
   "outputs": [],
   "metadata": {}
  },
  {
   "cell_type": "markdown",
   "source": [
    "The lockins can be initialised by setting up the amplitude (`ampl` in Volts) and the frequency (`freq`, in Hz):"
   ],
   "metadata": {}
  },
  {
   "cell_type": "code",
   "execution_count": null,
   "source": [
    "initialise_lockin(station, freq=127,ampl=2)"
   ],
   "outputs": [],
   "metadata": {}
  },
  {
   "cell_type": "markdown",
   "source": [
    "### Name and initialise database"
   ],
   "metadata": {}
  },
  {
   "cell_type": "code",
   "execution_count": null,
   "source": [
    "initialise_or_create_database_at('../database.db')\n",
    "exp = load_or_create_experiment(\n",
    "    experiment_name='test contacts',\n",
    "    sample_name='no_sample'\n",
    ")"
   ],
   "outputs": [],
   "metadata": {}
  },
  {
   "cell_type": "markdown",
   "source": [
    "## test gates\n",
    "We are going to test the gate. For the following, we shall connect the Keithley's channel A to the gate of interest, and float everything else."
   ],
   "metadata": {}
  },
  {
   "cell_type": "code",
   "execution_count": null,
   "source": [
    "test_gate('silicon_gate (1)',\n",
    "          station=station,\n",
    "          exp=exp,\n",
    "          sweeprange=60,\n",
    "          do_plot=True)"
   ],
   "outputs": [],
   "metadata": {}
  },
  {
   "cell_type": "code",
   "execution_count": null,
   "source": [
    "test_gate('graphite_gate (2)',\n",
    "          station=station,\n",
    "          exp=exp,\n",
    "          sweeprange=20,\n",
    "          do_plot=True)"
   ],
   "outputs": [],
   "metadata": {}
  },
  {
   "cell_type": "markdown",
   "source": [
    "## test contact IV\n",
    "we are going to test the contacts, one by one. For the following, we shall connect the Keithley's channel B to the contact of interest, and ground everything else"
   ],
   "metadata": {}
  },
  {
   "cell_type": "code",
   "execution_count": null,
   "source": [
    "contact_IV(3,  # contact number. can be a string. \n",
    "           station,  # station containing a station.keithely instrument\n",
    "           station.triton.T8,  # additional parameters that we want to record\n",
    "           exp = exp,  # the experiment object to record the contact characterisation. Optional.\n",
    "           do_plot = True,  # we plot the result\n",
    "           do_fit = True  # we fit the IV characteristic with a linear model to get he contact resistance\n",
    "          )"
   ],
   "outputs": [],
   "metadata": {}
  },
  {
   "cell_type": "markdown",
   "source": [],
   "metadata": {}
  }
 ],
 "metadata": {
  "orig_nbformat": 4,
  "language_info": {
   "name": "python"
  }
 },
 "nbformat": 4,
 "nbformat_minor": 2
}